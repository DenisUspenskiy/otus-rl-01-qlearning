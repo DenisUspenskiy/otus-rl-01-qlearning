{
 "cells": [
  {
   "cell_type": "markdown",
   "id": "353e8599-bf9b-4945-a7d1-4e7f6add7dc2",
   "metadata": {},
   "source": [
    "## Реализация алгоритма A2C для среды MountainCarContinuous c непрерывным действием"
   ]
  },
  {
   "cell_type": "code",
   "execution_count": 139,
   "id": "d9052077-ed5f-447f-bcd0-d75e3f4ec780",
   "metadata": {},
   "outputs": [],
   "source": [
    "#assert python version >=3,5\n",
    "import sys\n",
    "assert sys.version_info >= (3,5)\n",
    "\n",
    "import gymnasium as gym\n",
    "assert gym.__version__ >= '0.27.1'\n",
    "\n",
    "\n",
    "from collections import deque\n",
    "import copy\n",
    "import math\n",
    "import numpy as np\n",
    "from PIL import Image\n",
    "from IPython import display\n",
    "import matplotlib.pyplot as plt\n",
    "import pdb\n",
    "import random\n",
    "import sklearn\n",
    "import sklearn.preprocessing\n",
    "from tqdm import tqdm\n",
    "\n",
    "try:\n",
    "    import Box2D\n",
    "except ImportError:\n",
    "    warnings.warn('Failed to import', ImportWarning)\n",
    "\n",
    "import torch\n",
    "import torch.nn as nn\n",
    "import torch.optim as optim\n",
    "from torch.autograd import Variable\n",
    "import torch.nn.functional as F"
   ]
  },
  {
   "cell_type": "code",
   "execution_count": 2,
   "id": "017d0f54-412e-4d3b-acf5-7007b4b788e8",
   "metadata": {},
   "outputs": [],
   "source": [
    "env = gym.make('MountainCarContinuous-v0', render_mode=\"rgb_array\")"
   ]
  },
  {
   "cell_type": "code",
   "execution_count": 3,
   "id": "2df789e5-3b15-482c-ad08-6476fbc61d9d",
   "metadata": {},
   "outputs": [],
   "source": [
    "device = torch.device(\"cuda\" if torch.cuda.is_available() else \"cpu\")"
   ]
  },
  {
   "cell_type": "code",
   "execution_count": 144,
   "id": "db8f012a-98b7-4ff3-9b95-555a34e8e6fd",
   "metadata": {},
   "outputs": [],
   "source": [
    "class Actor:\n",
    "    '''\n",
    "    Базовый класс для Эктора\n",
    "    '''\n",
    "    def __init__(self, env:gym.Env):\n",
    "        self.env = env\n",
    "        self.a_low = torch.tensor(env.action_space.low, device=device)\n",
    "        self.a_high = torch.tensor(env.action_space.high, device=device)\n",
    "\n",
    "    def pi(self, s_t:torch.Tensor):\n",
    "        raise NotImplementedError\n",
    "\n",
    "    def parameters(self):\n",
    "        raise NotImplementedError\n",
    "\n",
    "        \n",
    "    def act(self, s_t:torch.Tensor) -> np.ndarray:\n",
    "        with torch.inference_mode():\n",
    "            a_t = self.pi(s_t).sample()\n",
    "            a_t = torch.clamp(a_t, self.a_low, self.a_high)\n",
    "            return a_t.cpu().numpy()\n",
    "    \n",
    "    def learn(self, states:torch.Tensor, actions:torch.Tensor, advantages:torch.Tensor) -> float:\n",
    "        '''\n",
    "        Выучиваем градиенты логарифмов распределения политики\n",
    "        '''\n",
    "        log_prob = self.pi(states).log_prob(actions)\n",
    "        loss = torch.mean(-log_prob*advantages)\n",
    "        self.opt.zero_grad()\n",
    "        loss.backward()\n",
    "        nn.utils.clip_grad_value_(self.parameters(), 100.)\n",
    "        self.opt.step()\n",
    "        return loss"
   ]
  },
  {
   "cell_type": "code",
   "execution_count": 140,
   "id": "8fe90f56-44f5-47d8-967d-e535734725eb",
   "metadata": {},
   "outputs": [],
   "source": [
    "class ActorNet(nn.Module):\n",
    "    '''\n",
    "    Архитектура сети Эктора\n",
    "    '''\n",
    "\n",
    "    def __init__(self, input_dim:int, out_dim:int):\n",
    "        super(ActorNet, self).__init__()\n",
    "        assert(input_dim >= 1)\n",
    "        assert(out_dim >= 1)\n",
    "        self.linear1 = torch.nn.Linear(input_dim, 512).double()\n",
    "        self.linear2 = torch.nn.Linear(512, 128).double()\n",
    "        self.linear3 = torch.nn.Linear(128, out_dim).double()\n",
    "        nn.init.xavier_normal_(self.linear1.weight)\n",
    "        nn.init.xavier_normal_(self.linear2.weight)\n",
    "        nn.init.xavier_normal_(self.linear3.weight)\n",
    "        \n",
    "\n",
    "    def forward(self, x:torch.Tensor) -> np.ndarray:\n",
    "        x = F.relu(self.linear1(x))\n",
    "        x = F.relu(self.linear2(x))\n",
    "        mu1 = self.linear3(x)\n",
    "        return mu1\n",
    "\n",
    "    \n",
    "class DiagonalGaussianActor(Actor):\n",
    "    '''\n",
    "    Агент политики, реализует непрерывные действия\n",
    "    '''\n",
    "    \n",
    "    def __init__(self, env:gym.Env, lr:float=1e-4, learn_sigma:bool=False):\n",
    "        super(DiagonalGaussianActor, self).__init__(env)\n",
    "        \n",
    "        self.learn_sigma = learn_sigma\n",
    "        N = env.observation_space.shape[0]\n",
    "        M = env.action_space.shape[0]\n",
    "        \n",
    "        self.mu = ActorNet(N,M).to(device)\n",
    "\n",
    "        if learn_sigma:\n",
    "            self.log_sigma = torch.ones(M, dtype=torch.double, requires_grad=True, device=device)\n",
    "            self.opt = torch.optim.AdamW(list(self.mu.parameters()) + [self.log_sigma], lr=lr, amsgrad=True)\n",
    "        else:\n",
    "            self.opt = torch.optim.AdamW(self.mu.parameters(), lr=lr, amsgrad=True)\n",
    "\n",
    "            \n",
    "    def pi(self, s_t):\n",
    "        '''\n",
    "        Возврат распределения политики\n",
    "        '''\n",
    "        s_t = torch.as_tensor(s_t, device=device).double()\n",
    "        mu = self.mu(s_t)\n",
    "        if self.learn_sigma:\n",
    "            log_sigma = self.log_sigma\n",
    "            sigma = torch.exp(log_sigma)\n",
    "            pi = torch.distributions.MultivariateNormal(mu, torch.diag(sigma))\n",
    "        else:\n",
    "            sigma = torch.ones_like(mu, dtype=torch.double, device=device) / 2.0\n",
    "            pi = torch.distributions.Normal(mu, sigma)\n",
    "        return pi\n",
    "    \n",
    "\n",
    "    def parameters(self):\n",
    "        if self.learn_sigma:\n",
    "            return list(self.mu.parameters()) + [self.log_sigma]\n",
    "        else:\n",
    "            return self.mu.parameters()"
   ]
  },
  {
   "cell_type": "code",
   "execution_count": 145,
   "id": "a2cbdd3a-6835-440d-ad29-3f899a4fbbd7",
   "metadata": {},
   "outputs": [],
   "source": [
    "class CriticNet(nn.Module):\n",
    "    '''\n",
    "    Архитектура сети для Критика\n",
    "    '''\n",
    "\n",
    "    def __init__(self, input_dim:int):\n",
    "        super(CriticNet, self).__init__()\n",
    "        assert(input_dim >= 1)\n",
    "        self.linear1 = torch.nn.Linear(input_dim, 512).double()\n",
    "        self.linear2 = torch.nn.Linear(512, 128).double()\n",
    "        self.linear3 = torch.nn.Linear(128, 1).double()\n",
    "        nn.init.xavier_normal_(self.linear1.weight)\n",
    "        nn.init.xavier_normal_(self.linear2.weight)\n",
    "        nn.init.xavier_normal_(self.linear3.weight)\n",
    "        \n",
    "\n",
    "    def forward(self, x:torch.Tensor) -> np.array:\n",
    "        x = F.relu(self.linear1(x))\n",
    "        x = F.relu(self.linear2(x))\n",
    "        return self.linear3(x)\n",
    "\n",
    "\n",
    "class Critic:\n",
    "    '''\n",
    "    Класс Критик, реализует предсказание StateValues для переданных состояний\n",
    "    '''\n",
    "    def __init__(self, env:gym.Env, lr:float=1e-4):\n",
    "        N = env.observation_space.shape[0]\n",
    "        self.V = CriticNet(N).double().to(device)\n",
    "        self.opt = torch.optim.AdamW(self.V.parameters(), lr=lr, amsgrad=True)\n",
    "        \n",
    "    def predict(self, s_t:torch.Tensor) -> np.ndarray:\n",
    "        s_t = torch.tensor(s_t, dtype=torch.double, device=device)\n",
    "        return self.V(s_t)\n",
    "\n",
    "    def learn(self, V_pred:torch.Tensor, returns:torch.Tensor) -> float:\n",
    "        loss = torch.mean((V_pred - returns)**2)\n",
    "        self.opt.zero_grad()\n",
    "        loss.backward()\n",
    "        nn.utils.clip_grad_value_(self.V.parameters(), 100.)\n",
    "        self.opt.step()\n",
    "        return loss"
   ]
  },
  {
   "cell_type": "code",
   "execution_count": 146,
   "id": "61827ea1-7c72-4202-9d60-003d8a6cc360",
   "metadata": {},
   "outputs": [],
   "source": [
    "def fit_scaler(env:gym.Env) -> sklearn.preprocessing.StandardScaler:\n",
    "    '''\n",
    "    Обучаем скейлер для состояний игры\n",
    "    '''\n",
    "    state_space_samples = np.array(\n",
    "        [env.observation_space.sample() for x in range(10000)])\n",
    "    scaler = sklearn.preprocessing.StandardScaler()\n",
    "    scaler.fit(state_space_samples)\n",
    "    return scaler"
   ]
  },
  {
   "cell_type": "code",
   "execution_count": 147,
   "id": "1f4fb4f4-1e93-411c-acd8-6d0662e2abb8",
   "metadata": {
    "tags": []
   },
   "outputs": [],
   "source": [
    "def A2C(env:gym.Env, agent:Actor, critic:Critic, scaler:sklearn.preprocessing.StandardScaler, gamma:float=0.99, epochs:int=256, train_V_iters:int=200):  \n",
    "    '''\n",
    "    Функция реализует алгоритм A2C\n",
    "    env = среда для исследования\n",
    "    agent - сеть Эктора для прогноза политики\n",
    "    critic - сеть Криттика для прогноза advantages состояний\n",
    "    sclaer - просто скейлер состояний среды (с ним сходится значительно лучше)\n",
    "    gamma - коэффициент дисконта\n",
    "    epochs - сколько эпизодов разыгрываем\n",
    "    train_V_iters - число эпох обучения сети Критик \n",
    "    '''\n",
    "    reward_records = []\n",
    "    states = []\n",
    "    actions = []\n",
    "    rewards = []\n",
    "\n",
    "    #цикл по эпизодам\n",
    "    for epoch in range(epochs):\n",
    "        done = False\n",
    "        states = []\n",
    "        actions = []\n",
    "        rewards = []\n",
    "        s, _ = env.reset()\n",
    "        #собираем траекторию\n",
    "        while not done:\n",
    "            s_t = scaler.transform([s])[0]\n",
    "            states.append(s_t)\n",
    "            a = agent.act([s_t])[0]\n",
    "            s_t_next, r, term, trunc, _ = env.step(a)\n",
    "            done = term or trunc\n",
    "            actions.append(a)\n",
    "            rewards.append(r)\n",
    "            s = s_t_next\n",
    "        \n",
    "        # формируем массив полной награды для каждого состояния\n",
    "        cum_rewards = np.zeros_like(rewards)\n",
    "        reward_len = len(rewards)\n",
    "        for j in reversed(range(reward_len)):\n",
    "            cum_rewards[j] = rewards[j] + (cum_rewards[j+1]*gamma if j+1 < reward_len else 0)\n",
    "\n",
    "        cum_rewards = torch.tensor(cum_rewards, dtype=torch.double, device=device).unsqueeze(dim=1)\n",
    "        # Оптимизируем value loss (Critic)\n",
    "        for _ in range(train_V_iters):\n",
    "            V_pred = critic.predict(states)\n",
    "            critic.learn(V_pred, cum_rewards)\n",
    "        # считаем advantage функцию\n",
    "        advantages = cum_rewards - V_pred.detach()\n",
    "        advantages = (advantages - advantages.mean()) / (advantages.std() + 1e-5)\n",
    "        actions = torch.tensor(actions, dtype=torch.double).to(device)    \n",
    "        #обучение Эктора\n",
    "        pi_loss = agent.learn(states, actions, advantages)        \n",
    "        \n",
    "        reward_records.append(sum(rewards))\n",
    "        print(f'{epoch}/{epochs}:{np.mean(reward_records[-100:])}\\r', end='')\n",
    "\n",
    "    return reward_records"
   ]
  },
  {
   "cell_type": "code",
   "execution_count": 126,
   "id": "d24ae4a3-04c8-48c2-841b-24d45bd8bb44",
   "metadata": {
    "tags": []
   },
   "outputs": [
    {
     "name": "stdout",
     "output_type": "stream",
     "text": [
      "499/500:92.33256097338418666\r"
     ]
    }
   ],
   "source": [
    "actor = DiagonalGaussianActor(env)\n",
    "critic = Critic(env)\n",
    "scaler = fit_scaler(env)\n",
    "rewards = A2C(env, actor, critic, scaler,epochs=500)"
   ]
  },
  {
   "cell_type": "markdown",
   "id": "4581f28a-e662-4431-ae5d-f3ec39125a98",
   "metadata": {},
   "source": [
    "### Визуализация наград и розыгрыш игры"
   ]
  },
  {
   "cell_type": "code",
   "execution_count": 149,
   "id": "8a9dc36f-3f4a-4318-b895-195275c9666d",
   "metadata": {},
   "outputs": [
    {
     "data": {
      "image/png": "[encoded data removed]",
      "text/plain": [
       "<Figure size 640x480 with 1 Axes>"
      ]
     },
     "metadata": {},
     "output_type": "display_data"
    }
   ],
   "source": [
    "plt.plot(rewards)\n",
    "plt.title('Средняя награда за 100 эпизодов')\n",
    "plt.xlabel('Episode')\n",
    "plt.ylabel('Reward')\n",
    "plt.show()"
   ]
  },
  {
   "cell_type": "code",
   "execution_count": 150,
   "id": "296c8362-1270-4597-979e-c9784afb642d",
   "metadata": {},
   "outputs": [
    {
     "data": {
      "image/png": "[encoded data removed]",
      "text/plain": [
       "<Figure size 640x480 with 1 Axes>"
      ]
     },
     "metadata": {},
     "output_type": "display_data"
    }
   ],
   "source": [
    "state, info = env.reset(seed=1233)\n",
    "#розыгрыш игры\n",
    "for i in range(env.spec.max_episode_steps):\n",
    "    if i % 2 == 0:\n",
    "        plt.imshow(env.render())\n",
    "        display.display(plt.gcf())    \n",
    "        display.clear_output(wait=True)\n",
    "    action = actor.act(scaler.transform([state])[0])\n",
    "    state, reward, terminated, truncated, info = env.step(action)\n",
    "    if terminated or truncated:\n",
    "        break"
   ]
  },
  {
   "cell_type": "code",
   "execution_count": null,
   "id": "6a8c42c9-06f0-428b-8837-3c425908a974",
   "metadata": {},
   "outputs": [],
   "source": []
  }
 ],
 "metadata": {
  "kernelspec": {
   "display_name": "otus",
   "language": "python",
   "name": "otus"
  },
  "language_info": {
   "codemirror_mode": {
    "name": "ipython",
    "version": 3
   },
   "file_extension": ".py",
   "mimetype": "text/x-python",
   "name": "python",
   "nbconvert_exporter": "python",
   "pygments_lexer": "ipython3",
   "version": "3.8.10"
  }
 },
 "nbformat": 4,
 "nbformat_minor": 5
}
